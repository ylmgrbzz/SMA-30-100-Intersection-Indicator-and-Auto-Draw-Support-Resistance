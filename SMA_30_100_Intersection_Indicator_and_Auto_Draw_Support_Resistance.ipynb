{
  "nbformat": 4,
  "nbformat_minor": 0,
  "metadata": {
    "colab": {
      "provenance": [],
      "authorship_tag": "ABX9TyMDLoDwnaTgj1yvf5KyOOMv",
      "include_colab_link": true
    },
    "kernelspec": {
      "name": "python3",
      "display_name": "Python 3"
    },
    "language_info": {
      "name": "python"
    }
  },
  "cells": [
    {
      "cell_type": "markdown",
      "metadata": {
        "id": "view-in-github",
        "colab_type": "text"
      },
      "source": [
        "<a href=\"https://colab.research.google.com/github/ylmgrbzz/SMA-30-100-Intersection-Indicator-and-Auto-Draw-Support-Resistance/blob/main/SMA_30_100_Intersection_Indicator_and_Auto_Draw_Support_Resistance.ipynb\" target=\"_parent\"><img src=\"https://colab.research.google.com/assets/colab-badge.svg\" alt=\"Open In Colab\"/></a>"
      ]
    },
    {
      "cell_type": "code",
      "execution_count": 1,
      "metadata": {
        "colab": {
          "base_uri": "https://localhost:8080/"
        },
        "id": "cG9uWDM7Sara",
        "outputId": "7463b84e-19fd-4db4-e850-71112b9cfe4c"
      },
      "outputs": [
        {
          "output_type": "stream",
          "name": "stdout",
          "text": [
            "Looking in indexes: https://pypi.org/simple, https://us-python.pkg.dev/colab-wheels/public/simple/\n",
            "Collecting pandas-ta\n",
            "  Downloading pandas_ta-0.3.14b.tar.gz (115 kB)\n",
            "\u001b[K     |████████████████████████████████| 115 kB 7.2 MB/s \n",
            "\u001b[?25hRequirement already satisfied: pandas in /usr/local/lib/python3.7/dist-packages (from pandas-ta) (1.3.5)\n",
            "Requirement already satisfied: pytz>=2017.3 in /usr/local/lib/python3.7/dist-packages (from pandas->pandas-ta) (2022.4)\n",
            "Requirement already satisfied: python-dateutil>=2.7.3 in /usr/local/lib/python3.7/dist-packages (from pandas->pandas-ta) (2.8.2)\n",
            "Requirement already satisfied: numpy>=1.17.3 in /usr/local/lib/python3.7/dist-packages (from pandas->pandas-ta) (1.21.6)\n",
            "Requirement already satisfied: six>=1.5 in /usr/local/lib/python3.7/dist-packages (from python-dateutil>=2.7.3->pandas->pandas-ta) (1.15.0)\n",
            "Building wheels for collected packages: pandas-ta\n",
            "  Building wheel for pandas-ta (setup.py) ... \u001b[?25l\u001b[?25hdone\n",
            "  Created wheel for pandas-ta: filename=pandas_ta-0.3.14b0-py3-none-any.whl size=218923 sha256=3523820c8547c036535b53aa9fb6b8e60a9f20c771b2ae15686c976160628c9d\n",
            "  Stored in directory: /root/.cache/pip/wheels/0b/81/f0/cca85757840e4616a2c6b9fe12569d97d324c27cac60724c58\n",
            "Successfully built pandas-ta\n",
            "Installing collected packages: pandas-ta\n",
            "Successfully installed pandas-ta-0.3.14b0\n"
          ]
        }
      ],
      "source": [
        "pip install pandas-ta"
      ]
    },
    {
      "cell_type": "code",
      "source": [
        "pip install yfinance"
      ],
      "metadata": {
        "colab": {
          "base_uri": "https://localhost:8080/"
        },
        "id": "ZgdPBatwSdp2",
        "outputId": "30bb7637-3970-4f3f-a6d2-da715cef371d"
      },
      "execution_count": 2,
      "outputs": [
        {
          "output_type": "stream",
          "name": "stdout",
          "text": [
            "Looking in indexes: https://pypi.org/simple, https://us-python.pkg.dev/colab-wheels/public/simple/\n",
            "Collecting yfinance\n",
            "  Downloading yfinance-0.1.77-py2.py3-none-any.whl (28 kB)\n",
            "Collecting requests>=2.26\n",
            "  Downloading requests-2.28.1-py3-none-any.whl (62 kB)\n",
            "\u001b[K     |████████████████████████████████| 62 kB 1.3 MB/s \n",
            "\u001b[?25hRequirement already satisfied: numpy>=1.15 in /usr/local/lib/python3.7/dist-packages (from yfinance) (1.21.6)\n",
            "Requirement already satisfied: lxml>=4.5.1 in /usr/local/lib/python3.7/dist-packages (from yfinance) (4.9.1)\n",
            "Requirement already satisfied: appdirs>=1.4.4 in /usr/local/lib/python3.7/dist-packages (from yfinance) (1.4.4)\n",
            "Requirement already satisfied: multitasking>=0.0.7 in /usr/local/lib/python3.7/dist-packages (from yfinance) (0.0.11)\n",
            "Requirement already satisfied: pandas>=0.24.0 in /usr/local/lib/python3.7/dist-packages (from yfinance) (1.3.5)\n",
            "Requirement already satisfied: python-dateutil>=2.7.3 in /usr/local/lib/python3.7/dist-packages (from pandas>=0.24.0->yfinance) (2.8.2)\n",
            "Requirement already satisfied: pytz>=2017.3 in /usr/local/lib/python3.7/dist-packages (from pandas>=0.24.0->yfinance) (2022.4)\n",
            "Requirement already satisfied: six>=1.5 in /usr/local/lib/python3.7/dist-packages (from python-dateutil>=2.7.3->pandas>=0.24.0->yfinance) (1.15.0)\n",
            "Requirement already satisfied: urllib3<1.27,>=1.21.1 in /usr/local/lib/python3.7/dist-packages (from requests>=2.26->yfinance) (1.24.3)\n",
            "Requirement already satisfied: certifi>=2017.4.17 in /usr/local/lib/python3.7/dist-packages (from requests>=2.26->yfinance) (2022.9.24)\n",
            "Requirement already satisfied: charset-normalizer<3,>=2 in /usr/local/lib/python3.7/dist-packages (from requests>=2.26->yfinance) (2.1.1)\n",
            "Requirement already satisfied: idna<4,>=2.5 in /usr/local/lib/python3.7/dist-packages (from requests>=2.26->yfinance) (2.10)\n",
            "Installing collected packages: requests, yfinance\n",
            "  Attempting uninstall: requests\n",
            "    Found existing installation: requests 2.23.0\n",
            "    Uninstalling requests-2.23.0:\n",
            "      Successfully uninstalled requests-2.23.0\n",
            "Successfully installed requests-2.28.1 yfinance-0.1.77\n"
          ]
        }
      ]
    },
    {
      "cell_type": "code",
      "source": [
        "import pandas as pd \n",
        "import numpy as np \n",
        "import matplotlib.pyplot as plt \n",
        "import pandas_datareader.data as web\n",
        "import pandas_ta as ta\n",
        "import yfinance as yf\n",
        "import matplotlib.pyplot as plt\n",
        "from datetime import date\n",
        "from mpl_finance import candlestick_ohlc\n",
        "import matplotlib.dates as mpl_dates\n",
        "\n",
        "plt.style.use('fivethirtyeight')\n",
        "yf.pdr_override()"
      ],
      "metadata": {
        "id": "q2T4pRlQSjHf"
      },
      "execution_count": 13,
      "outputs": []
    },
    {
      "cell_type": "code",
      "source": [
        "stocksymbols = ['EREGL.IS'] \n",
        "startdate = date(2017,8,4) \n",
        "end_date = date.today() \n",
        "print(end_date) "
      ],
      "metadata": {
        "colab": {
          "base_uri": "https://localhost:8080/"
        },
        "id": "10pAc-3hSoFe",
        "outputId": "b81e60ad-c396-4383-9d01-3463b2fd34d0"
      },
      "execution_count": 4,
      "outputs": [
        {
          "output_type": "stream",
          "name": "stdout",
          "text": [
            "2022-10-13\n"
          ]
        }
      ]
    },
    {
      "cell_type": "code",
      "source": [
        "def getMyPortfolio(stocks = stocksymbols ,start = startdate , end = end_date):\n",
        "    data = web.get_data_yahoo(stocks , data_source='yahoo' , start = start ,end= end ) \n",
        "    return data"
      ],
      "metadata": {
        "id": "BxEMXKvcTECO"
      },
      "execution_count": 5,
      "outputs": []
    },
    {
      "cell_type": "code",
      "source": [
        "data = getMyPortfolio(stocksymbols)\n",
        "data"
      ],
      "metadata": {
        "colab": {
          "base_uri": "https://localhost:8080/",
          "height": 472
        },
        "id": "T9L5s2j1TJjR",
        "outputId": "93f22591-e0d9-4dc9-aee0-a25f8b2c55ce"
      },
      "execution_count": 6,
      "outputs": [
        {
          "output_type": "stream",
          "name": "stdout",
          "text": [
            "\r[*********************100%***********************]  1 of 1 completed\n"
          ]
        },
        {
          "output_type": "execute_result",
          "data": {
            "text/plain": [
              "                                Open       High        Low      Close  \\\n",
              "Date                                                                    \n",
              "2017-08-04 00:00:00+03:00   8.060000   8.230000   8.060000   8.190000   \n",
              "2017-08-07 00:00:00+03:00   8.230000   8.310000   8.220000   8.240000   \n",
              "2017-08-08 00:00:00+03:00   8.270000   8.300000   8.140000   8.140000   \n",
              "2017-08-09 00:00:00+03:00   8.140000   8.280000   8.030000   8.030000   \n",
              "2017-08-10 00:00:00+03:00   8.040000   8.150000   7.800000   7.800000   \n",
              "...                              ...        ...        ...        ...   \n",
              "2022-10-06 00:00:00+03:00  30.760000  30.860001  30.200001  30.320000   \n",
              "2022-10-07 00:00:00+03:00  30.360001  30.879999  30.120001  30.219999   \n",
              "2022-10-10 00:00:00+03:00  30.299999  30.940001  30.219999  30.559999   \n",
              "2022-10-11 00:00:00+03:00  30.660000  30.700001  30.219999  30.219999   \n",
              "2022-10-12 00:00:00+03:00  30.240000  30.320000  29.400000  29.420000   \n",
              "\n",
              "                           Adj Close    Volume  \n",
              "Date                                            \n",
              "2017-08-04 00:00:00+03:00   4.027274  17502157  \n",
              "2017-08-07 00:00:00+03:00   4.051861  11315214  \n",
              "2017-08-08 00:00:00+03:00   4.002688  10878642  \n",
              "2017-08-09 00:00:00+03:00   3.948598  22566283  \n",
              "2017-08-10 00:00:00+03:00   3.835500  16626833  \n",
              "...                              ...       ...  \n",
              "2022-10-06 00:00:00+03:00  30.320000  55272231  \n",
              "2022-10-07 00:00:00+03:00  30.219999  65201661  \n",
              "2022-10-10 00:00:00+03:00  30.559999  68198377  \n",
              "2022-10-11 00:00:00+03:00  30.219999  55839504  \n",
              "2022-10-12 00:00:00+03:00  29.420000  53113174  \n",
              "\n",
              "[1323 rows x 6 columns]"
            ],
            "text/html": [
              "\n",
              "  <div id=\"df-5f19d96c-8605-4e36-a562-8e24e30dc462\">\n",
              "    <div class=\"colab-df-container\">\n",
              "      <div>\n",
              "<style scoped>\n",
              "    .dataframe tbody tr th:only-of-type {\n",
              "        vertical-align: middle;\n",
              "    }\n",
              "\n",
              "    .dataframe tbody tr th {\n",
              "        vertical-align: top;\n",
              "    }\n",
              "\n",
              "    .dataframe thead th {\n",
              "        text-align: right;\n",
              "    }\n",
              "</style>\n",
              "<table border=\"1\" class=\"dataframe\">\n",
              "  <thead>\n",
              "    <tr style=\"text-align: right;\">\n",
              "      <th></th>\n",
              "      <th>Open</th>\n",
              "      <th>High</th>\n",
              "      <th>Low</th>\n",
              "      <th>Close</th>\n",
              "      <th>Adj Close</th>\n",
              "      <th>Volume</th>\n",
              "    </tr>\n",
              "    <tr>\n",
              "      <th>Date</th>\n",
              "      <th></th>\n",
              "      <th></th>\n",
              "      <th></th>\n",
              "      <th></th>\n",
              "      <th></th>\n",
              "      <th></th>\n",
              "    </tr>\n",
              "  </thead>\n",
              "  <tbody>\n",
              "    <tr>\n",
              "      <th>2017-08-04 00:00:00+03:00</th>\n",
              "      <td>8.060000</td>\n",
              "      <td>8.230000</td>\n",
              "      <td>8.060000</td>\n",
              "      <td>8.190000</td>\n",
              "      <td>4.027274</td>\n",
              "      <td>17502157</td>\n",
              "    </tr>\n",
              "    <tr>\n",
              "      <th>2017-08-07 00:00:00+03:00</th>\n",
              "      <td>8.230000</td>\n",
              "      <td>8.310000</td>\n",
              "      <td>8.220000</td>\n",
              "      <td>8.240000</td>\n",
              "      <td>4.051861</td>\n",
              "      <td>11315214</td>\n",
              "    </tr>\n",
              "    <tr>\n",
              "      <th>2017-08-08 00:00:00+03:00</th>\n",
              "      <td>8.270000</td>\n",
              "      <td>8.300000</td>\n",
              "      <td>8.140000</td>\n",
              "      <td>8.140000</td>\n",
              "      <td>4.002688</td>\n",
              "      <td>10878642</td>\n",
              "    </tr>\n",
              "    <tr>\n",
              "      <th>2017-08-09 00:00:00+03:00</th>\n",
              "      <td>8.140000</td>\n",
              "      <td>8.280000</td>\n",
              "      <td>8.030000</td>\n",
              "      <td>8.030000</td>\n",
              "      <td>3.948598</td>\n",
              "      <td>22566283</td>\n",
              "    </tr>\n",
              "    <tr>\n",
              "      <th>2017-08-10 00:00:00+03:00</th>\n",
              "      <td>8.040000</td>\n",
              "      <td>8.150000</td>\n",
              "      <td>7.800000</td>\n",
              "      <td>7.800000</td>\n",
              "      <td>3.835500</td>\n",
              "      <td>16626833</td>\n",
              "    </tr>\n",
              "    <tr>\n",
              "      <th>...</th>\n",
              "      <td>...</td>\n",
              "      <td>...</td>\n",
              "      <td>...</td>\n",
              "      <td>...</td>\n",
              "      <td>...</td>\n",
              "      <td>...</td>\n",
              "    </tr>\n",
              "    <tr>\n",
              "      <th>2022-10-06 00:00:00+03:00</th>\n",
              "      <td>30.760000</td>\n",
              "      <td>30.860001</td>\n",
              "      <td>30.200001</td>\n",
              "      <td>30.320000</td>\n",
              "      <td>30.320000</td>\n",
              "      <td>55272231</td>\n",
              "    </tr>\n",
              "    <tr>\n",
              "      <th>2022-10-07 00:00:00+03:00</th>\n",
              "      <td>30.360001</td>\n",
              "      <td>30.879999</td>\n",
              "      <td>30.120001</td>\n",
              "      <td>30.219999</td>\n",
              "      <td>30.219999</td>\n",
              "      <td>65201661</td>\n",
              "    </tr>\n",
              "    <tr>\n",
              "      <th>2022-10-10 00:00:00+03:00</th>\n",
              "      <td>30.299999</td>\n",
              "      <td>30.940001</td>\n",
              "      <td>30.219999</td>\n",
              "      <td>30.559999</td>\n",
              "      <td>30.559999</td>\n",
              "      <td>68198377</td>\n",
              "    </tr>\n",
              "    <tr>\n",
              "      <th>2022-10-11 00:00:00+03:00</th>\n",
              "      <td>30.660000</td>\n",
              "      <td>30.700001</td>\n",
              "      <td>30.219999</td>\n",
              "      <td>30.219999</td>\n",
              "      <td>30.219999</td>\n",
              "      <td>55839504</td>\n",
              "    </tr>\n",
              "    <tr>\n",
              "      <th>2022-10-12 00:00:00+03:00</th>\n",
              "      <td>30.240000</td>\n",
              "      <td>30.320000</td>\n",
              "      <td>29.400000</td>\n",
              "      <td>29.420000</td>\n",
              "      <td>29.420000</td>\n",
              "      <td>53113174</td>\n",
              "    </tr>\n",
              "  </tbody>\n",
              "</table>\n",
              "<p>1323 rows × 6 columns</p>\n",
              "</div>\n",
              "      <button class=\"colab-df-convert\" onclick=\"convertToInteractive('df-5f19d96c-8605-4e36-a562-8e24e30dc462')\"\n",
              "              title=\"Convert this dataframe to an interactive table.\"\n",
              "              style=\"display:none;\">\n",
              "        \n",
              "  <svg xmlns=\"http://www.w3.org/2000/svg\" height=\"24px\"viewBox=\"0 0 24 24\"\n",
              "       width=\"24px\">\n",
              "    <path d=\"M0 0h24v24H0V0z\" fill=\"none\"/>\n",
              "    <path d=\"M18.56 5.44l.94 2.06.94-2.06 2.06-.94-2.06-.94-.94-2.06-.94 2.06-2.06.94zm-11 1L8.5 8.5l.94-2.06 2.06-.94-2.06-.94L8.5 2.5l-.94 2.06-2.06.94zm10 10l.94 2.06.94-2.06 2.06-.94-2.06-.94-.94-2.06-.94 2.06-2.06.94z\"/><path d=\"M17.41 7.96l-1.37-1.37c-.4-.4-.92-.59-1.43-.59-.52 0-1.04.2-1.43.59L10.3 9.45l-7.72 7.72c-.78.78-.78 2.05 0 2.83L4 21.41c.39.39.9.59 1.41.59.51 0 1.02-.2 1.41-.59l7.78-7.78 2.81-2.81c.8-.78.8-2.07 0-2.86zM5.41 20L4 18.59l7.72-7.72 1.47 1.35L5.41 20z\"/>\n",
              "  </svg>\n",
              "      </button>\n",
              "      \n",
              "  <style>\n",
              "    .colab-df-container {\n",
              "      display:flex;\n",
              "      flex-wrap:wrap;\n",
              "      gap: 12px;\n",
              "    }\n",
              "\n",
              "    .colab-df-convert {\n",
              "      background-color: #E8F0FE;\n",
              "      border: none;\n",
              "      border-radius: 50%;\n",
              "      cursor: pointer;\n",
              "      display: none;\n",
              "      fill: #1967D2;\n",
              "      height: 32px;\n",
              "      padding: 0 0 0 0;\n",
              "      width: 32px;\n",
              "    }\n",
              "\n",
              "    .colab-df-convert:hover {\n",
              "      background-color: #E2EBFA;\n",
              "      box-shadow: 0px 1px 2px rgba(60, 64, 67, 0.3), 0px 1px 3px 1px rgba(60, 64, 67, 0.15);\n",
              "      fill: #174EA6;\n",
              "    }\n",
              "\n",
              "    [theme=dark] .colab-df-convert {\n",
              "      background-color: #3B4455;\n",
              "      fill: #D2E3FC;\n",
              "    }\n",
              "\n",
              "    [theme=dark] .colab-df-convert:hover {\n",
              "      background-color: #434B5C;\n",
              "      box-shadow: 0px 1px 3px 1px rgba(0, 0, 0, 0.15);\n",
              "      filter: drop-shadow(0px 1px 2px rgba(0, 0, 0, 0.3));\n",
              "      fill: #FFFFFF;\n",
              "    }\n",
              "  </style>\n",
              "\n",
              "      <script>\n",
              "        const buttonEl =\n",
              "          document.querySelector('#df-5f19d96c-8605-4e36-a562-8e24e30dc462 button.colab-df-convert');\n",
              "        buttonEl.style.display =\n",
              "          google.colab.kernel.accessAllowed ? 'block' : 'none';\n",
              "\n",
              "        async function convertToInteractive(key) {\n",
              "          const element = document.querySelector('#df-5f19d96c-8605-4e36-a562-8e24e30dc462');\n",
              "          const dataTable =\n",
              "            await google.colab.kernel.invokeFunction('convertToInteractive',\n",
              "                                                     [key], {});\n",
              "          if (!dataTable) return;\n",
              "\n",
              "          const docLinkHtml = 'Like what you see? Visit the ' +\n",
              "            '<a target=\"_blank\" href=https://colab.research.google.com/notebooks/data_table.ipynb>data table notebook</a>'\n",
              "            + ' to learn more about interactive tables.';\n",
              "          element.innerHTML = '';\n",
              "          dataTable['output_type'] = 'display_data';\n",
              "          await google.colab.output.renderOutput(dataTable, element);\n",
              "          const docLink = document.createElement('div');\n",
              "          docLink.innerHTML = docLinkHtml;\n",
              "          element.appendChild(docLink);\n",
              "        }\n",
              "      </script>\n",
              "    </div>\n",
              "  </div>\n",
              "  "
            ]
          },
          "metadata": {},
          "execution_count": 6
        }
      ]
    },
    {
      "cell_type": "code",
      "source": [
        "data['SMA 30'] = ta.sma(data['Close'],30)\n",
        "data['SMA 100'] = ta.sma(data['Close'],100)"
      ],
      "metadata": {
        "id": "k6FatJ7xTOYO"
      },
      "execution_count": 7,
      "outputs": []
    },
    {
      "cell_type": "code",
      "source": [
        "def buy_sell(data):\n",
        "    signalBuy = []\n",
        "    signalSell = []\n",
        "    position = False \n",
        "\n",
        "    for i in range(len(data)):\n",
        "        if data['SMA 30'][i] > data['SMA 100'][i]:\n",
        "            if position == False :\n",
        "                signalBuy.append(data['Adj Close'][i])\n",
        "                signalSell.append(np.nan)\n",
        "                position = True\n",
        "            else:\n",
        "                signalBuy.append(np.nan)\n",
        "                signalSell.append(np.nan)\n",
        "        elif data['SMA 30'][i] < data['SMA 100'][i]:\n",
        "            if position == True:\n",
        "                signalBuy.append(np.nan)\n",
        "                signalSell.append(data['Adj Close'][i])\n",
        "                position = False\n",
        "            else:\n",
        "                signalBuy.append(np.nan)\n",
        "                signalSell.append(np.nan)\n",
        "        else:\n",
        "            signalBuy.append(np.nan)\n",
        "            signalSell.append(np.nan)\n",
        "    return pd.Series([signalBuy, signalSell])"
      ],
      "metadata": {
        "id": "-Awbqi2ZTXp-"
      },
      "execution_count": 8,
      "outputs": []
    },
    {
      "cell_type": "code",
      "source": [
        "data['Buy_Signal_price'], data['Sell_Signal_price'] = buy_sell(data)\n",
        "data\n"
      ],
      "metadata": {
        "colab": {
          "base_uri": "https://localhost:8080/",
          "height": 455
        },
        "id": "rNOQdWO2TgBt",
        "outputId": "fc709fa6-4848-4367-eb59-941b2cf89a32"
      },
      "execution_count": 9,
      "outputs": [
        {
          "output_type": "execute_result",
          "data": {
            "text/plain": [
              "                                Open       High        Low      Close  \\\n",
              "Date                                                                    \n",
              "2017-08-04 00:00:00+03:00   8.060000   8.230000   8.060000   8.190000   \n",
              "2017-08-07 00:00:00+03:00   8.230000   8.310000   8.220000   8.240000   \n",
              "2017-08-08 00:00:00+03:00   8.270000   8.300000   8.140000   8.140000   \n",
              "2017-08-09 00:00:00+03:00   8.140000   8.280000   8.030000   8.030000   \n",
              "2017-08-10 00:00:00+03:00   8.040000   8.150000   7.800000   7.800000   \n",
              "...                              ...        ...        ...        ...   \n",
              "2022-10-06 00:00:00+03:00  30.760000  30.860001  30.200001  30.320000   \n",
              "2022-10-07 00:00:00+03:00  30.360001  30.879999  30.120001  30.219999   \n",
              "2022-10-10 00:00:00+03:00  30.299999  30.940001  30.219999  30.559999   \n",
              "2022-10-11 00:00:00+03:00  30.660000  30.700001  30.219999  30.219999   \n",
              "2022-10-12 00:00:00+03:00  30.240000  30.320000  29.400000  29.420000   \n",
              "\n",
              "                           Adj Close    Volume     SMA 30  SMA 100  \\\n",
              "Date                                                                 \n",
              "2017-08-04 00:00:00+03:00   4.027274  17502157        NaN      NaN   \n",
              "2017-08-07 00:00:00+03:00   4.051861  11315214        NaN      NaN   \n",
              "2017-08-08 00:00:00+03:00   4.002688  10878642        NaN      NaN   \n",
              "2017-08-09 00:00:00+03:00   3.948598  22566283        NaN      NaN   \n",
              "2017-08-10 00:00:00+03:00   3.835500  16626833        NaN      NaN   \n",
              "...                              ...       ...        ...      ...   \n",
              "2022-10-06 00:00:00+03:00  30.320000  55272231  30.198667  29.6634   \n",
              "2022-10-07 00:00:00+03:00  30.219999  65201661  30.236667  29.6392   \n",
              "2022-10-10 00:00:00+03:00  30.559999  68198377  30.272000  29.6280   \n",
              "2022-10-11 00:00:00+03:00  30.219999  55839504  30.306000  29.6130   \n",
              "2022-10-12 00:00:00+03:00  29.420000  53113174  30.327333  29.5882   \n",
              "\n",
              "                           Buy_Signal_price  Sell_Signal_price  \n",
              "Date                                                            \n",
              "2017-08-04 00:00:00+03:00               NaN                NaN  \n",
              "2017-08-07 00:00:00+03:00               NaN                NaN  \n",
              "2017-08-08 00:00:00+03:00               NaN                NaN  \n",
              "2017-08-09 00:00:00+03:00               NaN                NaN  \n",
              "2017-08-10 00:00:00+03:00               NaN                NaN  \n",
              "...                                     ...                ...  \n",
              "2022-10-06 00:00:00+03:00               NaN                NaN  \n",
              "2022-10-07 00:00:00+03:00               NaN                NaN  \n",
              "2022-10-10 00:00:00+03:00               NaN                NaN  \n",
              "2022-10-11 00:00:00+03:00               NaN                NaN  \n",
              "2022-10-12 00:00:00+03:00               NaN                NaN  \n",
              "\n",
              "[1323 rows x 10 columns]"
            ],
            "text/html": [
              "\n",
              "  <div id=\"df-82762370-b517-4be8-9b61-e64a3cab0584\">\n",
              "    <div class=\"colab-df-container\">\n",
              "      <div>\n",
              "<style scoped>\n",
              "    .dataframe tbody tr th:only-of-type {\n",
              "        vertical-align: middle;\n",
              "    }\n",
              "\n",
              "    .dataframe tbody tr th {\n",
              "        vertical-align: top;\n",
              "    }\n",
              "\n",
              "    .dataframe thead th {\n",
              "        text-align: right;\n",
              "    }\n",
              "</style>\n",
              "<table border=\"1\" class=\"dataframe\">\n",
              "  <thead>\n",
              "    <tr style=\"text-align: right;\">\n",
              "      <th></th>\n",
              "      <th>Open</th>\n",
              "      <th>High</th>\n",
              "      <th>Low</th>\n",
              "      <th>Close</th>\n",
              "      <th>Adj Close</th>\n",
              "      <th>Volume</th>\n",
              "      <th>SMA 30</th>\n",
              "      <th>SMA 100</th>\n",
              "      <th>Buy_Signal_price</th>\n",
              "      <th>Sell_Signal_price</th>\n",
              "    </tr>\n",
              "    <tr>\n",
              "      <th>Date</th>\n",
              "      <th></th>\n",
              "      <th></th>\n",
              "      <th></th>\n",
              "      <th></th>\n",
              "      <th></th>\n",
              "      <th></th>\n",
              "      <th></th>\n",
              "      <th></th>\n",
              "      <th></th>\n",
              "      <th></th>\n",
              "    </tr>\n",
              "  </thead>\n",
              "  <tbody>\n",
              "    <tr>\n",
              "      <th>2017-08-04 00:00:00+03:00</th>\n",
              "      <td>8.060000</td>\n",
              "      <td>8.230000</td>\n",
              "      <td>8.060000</td>\n",
              "      <td>8.190000</td>\n",
              "      <td>4.027274</td>\n",
              "      <td>17502157</td>\n",
              "      <td>NaN</td>\n",
              "      <td>NaN</td>\n",
              "      <td>NaN</td>\n",
              "      <td>NaN</td>\n",
              "    </tr>\n",
              "    <tr>\n",
              "      <th>2017-08-07 00:00:00+03:00</th>\n",
              "      <td>8.230000</td>\n",
              "      <td>8.310000</td>\n",
              "      <td>8.220000</td>\n",
              "      <td>8.240000</td>\n",
              "      <td>4.051861</td>\n",
              "      <td>11315214</td>\n",
              "      <td>NaN</td>\n",
              "      <td>NaN</td>\n",
              "      <td>NaN</td>\n",
              "      <td>NaN</td>\n",
              "    </tr>\n",
              "    <tr>\n",
              "      <th>2017-08-08 00:00:00+03:00</th>\n",
              "      <td>8.270000</td>\n",
              "      <td>8.300000</td>\n",
              "      <td>8.140000</td>\n",
              "      <td>8.140000</td>\n",
              "      <td>4.002688</td>\n",
              "      <td>10878642</td>\n",
              "      <td>NaN</td>\n",
              "      <td>NaN</td>\n",
              "      <td>NaN</td>\n",
              "      <td>NaN</td>\n",
              "    </tr>\n",
              "    <tr>\n",
              "      <th>2017-08-09 00:00:00+03:00</th>\n",
              "      <td>8.140000</td>\n",
              "      <td>8.280000</td>\n",
              "      <td>8.030000</td>\n",
              "      <td>8.030000</td>\n",
              "      <td>3.948598</td>\n",
              "      <td>22566283</td>\n",
              "      <td>NaN</td>\n",
              "      <td>NaN</td>\n",
              "      <td>NaN</td>\n",
              "      <td>NaN</td>\n",
              "    </tr>\n",
              "    <tr>\n",
              "      <th>2017-08-10 00:00:00+03:00</th>\n",
              "      <td>8.040000</td>\n",
              "      <td>8.150000</td>\n",
              "      <td>7.800000</td>\n",
              "      <td>7.800000</td>\n",
              "      <td>3.835500</td>\n",
              "      <td>16626833</td>\n",
              "      <td>NaN</td>\n",
              "      <td>NaN</td>\n",
              "      <td>NaN</td>\n",
              "      <td>NaN</td>\n",
              "    </tr>\n",
              "    <tr>\n",
              "      <th>...</th>\n",
              "      <td>...</td>\n",
              "      <td>...</td>\n",
              "      <td>...</td>\n",
              "      <td>...</td>\n",
              "      <td>...</td>\n",
              "      <td>...</td>\n",
              "      <td>...</td>\n",
              "      <td>...</td>\n",
              "      <td>...</td>\n",
              "      <td>...</td>\n",
              "    </tr>\n",
              "    <tr>\n",
              "      <th>2022-10-06 00:00:00+03:00</th>\n",
              "      <td>30.760000</td>\n",
              "      <td>30.860001</td>\n",
              "      <td>30.200001</td>\n",
              "      <td>30.320000</td>\n",
              "      <td>30.320000</td>\n",
              "      <td>55272231</td>\n",
              "      <td>30.198667</td>\n",
              "      <td>29.6634</td>\n",
              "      <td>NaN</td>\n",
              "      <td>NaN</td>\n",
              "    </tr>\n",
              "    <tr>\n",
              "      <th>2022-10-07 00:00:00+03:00</th>\n",
              "      <td>30.360001</td>\n",
              "      <td>30.879999</td>\n",
              "      <td>30.120001</td>\n",
              "      <td>30.219999</td>\n",
              "      <td>30.219999</td>\n",
              "      <td>65201661</td>\n",
              "      <td>30.236667</td>\n",
              "      <td>29.6392</td>\n",
              "      <td>NaN</td>\n",
              "      <td>NaN</td>\n",
              "    </tr>\n",
              "    <tr>\n",
              "      <th>2022-10-10 00:00:00+03:00</th>\n",
              "      <td>30.299999</td>\n",
              "      <td>30.940001</td>\n",
              "      <td>30.219999</td>\n",
              "      <td>30.559999</td>\n",
              "      <td>30.559999</td>\n",
              "      <td>68198377</td>\n",
              "      <td>30.272000</td>\n",
              "      <td>29.6280</td>\n",
              "      <td>NaN</td>\n",
              "      <td>NaN</td>\n",
              "    </tr>\n",
              "    <tr>\n",
              "      <th>2022-10-11 00:00:00+03:00</th>\n",
              "      <td>30.660000</td>\n",
              "      <td>30.700001</td>\n",
              "      <td>30.219999</td>\n",
              "      <td>30.219999</td>\n",
              "      <td>30.219999</td>\n",
              "      <td>55839504</td>\n",
              "      <td>30.306000</td>\n",
              "      <td>29.6130</td>\n",
              "      <td>NaN</td>\n",
              "      <td>NaN</td>\n",
              "    </tr>\n",
              "    <tr>\n",
              "      <th>2022-10-12 00:00:00+03:00</th>\n",
              "      <td>30.240000</td>\n",
              "      <td>30.320000</td>\n",
              "      <td>29.400000</td>\n",
              "      <td>29.420000</td>\n",
              "      <td>29.420000</td>\n",
              "      <td>53113174</td>\n",
              "      <td>30.327333</td>\n",
              "      <td>29.5882</td>\n",
              "      <td>NaN</td>\n",
              "      <td>NaN</td>\n",
              "    </tr>\n",
              "  </tbody>\n",
              "</table>\n",
              "<p>1323 rows × 10 columns</p>\n",
              "</div>\n",
              "      <button class=\"colab-df-convert\" onclick=\"convertToInteractive('df-82762370-b517-4be8-9b61-e64a3cab0584')\"\n",
              "              title=\"Convert this dataframe to an interactive table.\"\n",
              "              style=\"display:none;\">\n",
              "        \n",
              "  <svg xmlns=\"http://www.w3.org/2000/svg\" height=\"24px\"viewBox=\"0 0 24 24\"\n",
              "       width=\"24px\">\n",
              "    <path d=\"M0 0h24v24H0V0z\" fill=\"none\"/>\n",
              "    <path d=\"M18.56 5.44l.94 2.06.94-2.06 2.06-.94-2.06-.94-.94-2.06-.94 2.06-2.06.94zm-11 1L8.5 8.5l.94-2.06 2.06-.94-2.06-.94L8.5 2.5l-.94 2.06-2.06.94zm10 10l.94 2.06.94-2.06 2.06-.94-2.06-.94-.94-2.06-.94 2.06-2.06.94z\"/><path d=\"M17.41 7.96l-1.37-1.37c-.4-.4-.92-.59-1.43-.59-.52 0-1.04.2-1.43.59L10.3 9.45l-7.72 7.72c-.78.78-.78 2.05 0 2.83L4 21.41c.39.39.9.59 1.41.59.51 0 1.02-.2 1.41-.59l7.78-7.78 2.81-2.81c.8-.78.8-2.07 0-2.86zM5.41 20L4 18.59l7.72-7.72 1.47 1.35L5.41 20z\"/>\n",
              "  </svg>\n",
              "      </button>\n",
              "      \n",
              "  <style>\n",
              "    .colab-df-container {\n",
              "      display:flex;\n",
              "      flex-wrap:wrap;\n",
              "      gap: 12px;\n",
              "    }\n",
              "\n",
              "    .colab-df-convert {\n",
              "      background-color: #E8F0FE;\n",
              "      border: none;\n",
              "      border-radius: 50%;\n",
              "      cursor: pointer;\n",
              "      display: none;\n",
              "      fill: #1967D2;\n",
              "      height: 32px;\n",
              "      padding: 0 0 0 0;\n",
              "      width: 32px;\n",
              "    }\n",
              "\n",
              "    .colab-df-convert:hover {\n",
              "      background-color: #E2EBFA;\n",
              "      box-shadow: 0px 1px 2px rgba(60, 64, 67, 0.3), 0px 1px 3px 1px rgba(60, 64, 67, 0.15);\n",
              "      fill: #174EA6;\n",
              "    }\n",
              "\n",
              "    [theme=dark] .colab-df-convert {\n",
              "      background-color: #3B4455;\n",
              "      fill: #D2E3FC;\n",
              "    }\n",
              "\n",
              "    [theme=dark] .colab-df-convert:hover {\n",
              "      background-color: #434B5C;\n",
              "      box-shadow: 0px 1px 3px 1px rgba(0, 0, 0, 0.15);\n",
              "      filter: drop-shadow(0px 1px 2px rgba(0, 0, 0, 0.3));\n",
              "      fill: #FFFFFF;\n",
              "    }\n",
              "  </style>\n",
              "\n",
              "      <script>\n",
              "        const buttonEl =\n",
              "          document.querySelector('#df-82762370-b517-4be8-9b61-e64a3cab0584 button.colab-df-convert');\n",
              "        buttonEl.style.display =\n",
              "          google.colab.kernel.accessAllowed ? 'block' : 'none';\n",
              "\n",
              "        async function convertToInteractive(key) {\n",
              "          const element = document.querySelector('#df-82762370-b517-4be8-9b61-e64a3cab0584');\n",
              "          const dataTable =\n",
              "            await google.colab.kernel.invokeFunction('convertToInteractive',\n",
              "                                                     [key], {});\n",
              "          if (!dataTable) return;\n",
              "\n",
              "          const docLinkHtml = 'Like what you see? Visit the ' +\n",
              "            '<a target=\"_blank\" href=https://colab.research.google.com/notebooks/data_table.ipynb>data table notebook</a>'\n",
              "            + ' to learn more about interactive tables.';\n",
              "          element.innerHTML = '';\n",
              "          dataTable['output_type'] = 'display_data';\n",
              "          await google.colab.output.renderOutput(dataTable, element);\n",
              "          const docLink = document.createElement('div');\n",
              "          docLink.innerHTML = docLinkHtml;\n",
              "          element.appendChild(docLink);\n",
              "        }\n",
              "      </script>\n",
              "    </div>\n",
              "  </div>\n",
              "  "
            ]
          },
          "metadata": {},
          "execution_count": 9
        }
      ]
    },
    {
      "cell_type": "code",
      "source": [
        "fig, ax = plt.subplots(figsize=(14,8))\n",
        "ax.plot(data['Adj Close'] , label = stocksymbols[0] ,linewidth=0.5, color='blue', alpha = 0.9)\n",
        "ax.plot(data['SMA 30'], label = 'SMA30', alpha = 0.85)\n",
        "ax.plot(data['SMA 100'], label = 'SMA100' , alpha = 0.85)\n",
        "ax.scatter(data.index , data['Buy_Signal_price'] , label = 'Buy' , marker = '^', color = 'green',alpha =1 )\n",
        "ax.scatter(data.index , data['Sell_Signal_price'] , label = 'Sell' , marker = 'v', color = 'red',alpha =1 )\n",
        "ax.set_title(stocksymbols[0] ,fontsize=10, backgroundcolor='blue', color='white')\n",
        "ax.set_xlabel(f'{startdate} - {end_date}' ,fontsize=18)\n",
        "ax.set_ylabel('Close Price INR (₨)' , fontsize=18)\n",
        "legend = ax.legend()\n",
        "ax.grid()\n",
        "plt.tight_layout()\n",
        "plt.show()"
      ],
      "metadata": {
        "colab": {
          "base_uri": "https://localhost:8080/",
          "height": 577
        },
        "id": "mJY90VaWTodF",
        "outputId": "86b26a9d-88f4-4a0e-b35b-58f4ea2c79d6"
      },
      "execution_count": 11,
      "outputs": [
        {
          "output_type": "display_data",
          "data": {
            "text/plain": [
              "<Figure size 1008x576 with 1 Axes>"
            ],
            "image/png": "[encoded data removed]"
          },
          "metadata": {}
        }
      ]
    },
    {
      "cell_type": "code",
      "source": [
        "pip install mpl_finance"
      ],
      "metadata": {
        "colab": {
          "base_uri": "https://localhost:8080/"
        },
        "id": "3UfAk21mUe25",
        "outputId": "6e244d87-fdb2-4ded-d64f-c3dea6fba16f"
      },
      "execution_count": 12,
      "outputs": [
        {
          "output_type": "stream",
          "name": "stdout",
          "text": [
            "Looking in indexes: https://pypi.org/simple, https://us-python.pkg.dev/colab-wheels/public/simple/\n",
            "Collecting mpl_finance\n",
            "  Downloading mpl_finance-0.10.1-py3-none-any.whl (8.4 kB)\n",
            "Requirement already satisfied: matplotlib in /usr/local/lib/python3.7/dist-packages (from mpl_finance) (3.2.2)\n",
            "Requirement already satisfied: kiwisolver>=1.0.1 in /usr/local/lib/python3.7/dist-packages (from matplotlib->mpl_finance) (1.4.4)\n",
            "Requirement already satisfied: python-dateutil>=2.1 in /usr/local/lib/python3.7/dist-packages (from matplotlib->mpl_finance) (2.8.2)\n",
            "Requirement already satisfied: cycler>=0.10 in /usr/local/lib/python3.7/dist-packages (from matplotlib->mpl_finance) (0.11.0)\n",
            "Requirement already satisfied: pyparsing!=2.0.4,!=2.1.2,!=2.1.6,>=2.0.1 in /usr/local/lib/python3.7/dist-packages (from matplotlib->mpl_finance) (3.0.9)\n",
            "Requirement already satisfied: numpy>=1.11 in /usr/local/lib/python3.7/dist-packages (from matplotlib->mpl_finance) (1.21.6)\n",
            "Requirement already satisfied: typing-extensions in /usr/local/lib/python3.7/dist-packages (from kiwisolver>=1.0.1->matplotlib->mpl_finance) (4.1.1)\n",
            "Requirement already satisfied: six>=1.5 in /usr/local/lib/python3.7/dist-packages (from python-dateutil>=2.1->matplotlib->mpl_finance) (1.15.0)\n",
            "Installing collected packages: mpl-finance\n",
            "Successfully installed mpl-finance-0.10.1\n"
          ]
        }
      ]
    },
    {
      "cell_type": "code",
      "source": [
        "plt.rcParams['figure.figsize'] = [12, 7]\n",
        "plt.rc('font', size=14)"
      ],
      "metadata": {
        "id": "aQcu7NnSUrcc"
      },
      "execution_count": 14,
      "outputs": []
    },
    {
      "cell_type": "code",
      "source": [
        "pip install yfinance"
      ],
      "metadata": {
        "colab": {
          "base_uri": "https://localhost:8080/"
        },
        "id": "RwEU3JwjU1uZ",
        "outputId": "afe7103a-a1a1-489f-94f6-6c7782530a5a"
      },
      "execution_count": 17,
      "outputs": [
        {
          "output_type": "stream",
          "name": "stdout",
          "text": [
            "Looking in indexes: https://pypi.org/simple, https://us-python.pkg.dev/colab-wheels/public/simple/\n",
            "Requirement already satisfied: yfinance in /usr/local/lib/python3.7/dist-packages (0.1.77)\n",
            "Requirement already satisfied: multitasking>=0.0.7 in /usr/local/lib/python3.7/dist-packages (from yfinance) (0.0.11)\n",
            "Requirement already satisfied: lxml>=4.5.1 in /usr/local/lib/python3.7/dist-packages (from yfinance) (4.9.1)\n",
            "Requirement already satisfied: appdirs>=1.4.4 in /usr/local/lib/python3.7/dist-packages (from yfinance) (1.4.4)\n",
            "Requirement already satisfied: pandas>=0.24.0 in /usr/local/lib/python3.7/dist-packages (from yfinance) (1.3.5)\n",
            "Requirement already satisfied: requests>=2.26 in /usr/local/lib/python3.7/dist-packages (from yfinance) (2.28.1)\n",
            "Requirement already satisfied: numpy>=1.15 in /usr/local/lib/python3.7/dist-packages (from yfinance) (1.21.6)\n",
            "Requirement already satisfied: pytz>=2017.3 in /usr/local/lib/python3.7/dist-packages (from pandas>=0.24.0->yfinance) (2022.4)\n",
            "Requirement already satisfied: python-dateutil>=2.7.3 in /usr/local/lib/python3.7/dist-packages (from pandas>=0.24.0->yfinance) (2.8.2)\n",
            "Requirement already satisfied: six>=1.5 in /usr/local/lib/python3.7/dist-packages (from python-dateutil>=2.7.3->pandas>=0.24.0->yfinance) (1.15.0)\n",
            "Requirement already satisfied: idna<4,>=2.5 in /usr/local/lib/python3.7/dist-packages (from requests>=2.26->yfinance) (2.10)\n",
            "Requirement already satisfied: urllib3<1.27,>=1.21.1 in /usr/local/lib/python3.7/dist-packages (from requests>=2.26->yfinance) (1.24.3)\n",
            "Requirement already satisfied: charset-normalizer<3,>=2 in /usr/local/lib/python3.7/dist-packages (from requests>=2.26->yfinance) (2.1.1)\n",
            "Requirement already satisfied: certifi>=2017.4.17 in /usr/local/lib/python3.7/dist-packages (from requests>=2.26->yfinance) (2022.9.24)\n"
          ]
        }
      ]
    },
    {
      "cell_type": "code",
      "source": [
        "\n",
        "import yfinance \n"
      ],
      "metadata": {
        "id": "VXqWy3LCU6i2"
      },
      "execution_count": 21,
      "outputs": []
    },
    {
      "cell_type": "code",
      "source": [
        "name = 'SISE.IS'\n",
        "ticker = yfinance.Ticker(name)\n",
        "df = ticker.history(interval=\"1d\",start=\"2022-05-15\", end=\"2022-10-6\")\n",
        "df['Date'] = pd.to_datetime(df.index)\n",
        "df['Date'] = df['Date'].apply(mpl_dates.date2num)\n",
        "df = df.loc[:,['Date', 'Open', 'High', 'Low', 'Close']]"
      ],
      "metadata": {
        "id": "UeNYgK5ZUusQ"
      },
      "execution_count": 22,
      "outputs": []
    },
    {
      "cell_type": "code",
      "source": [
        "df.head()"
      ],
      "metadata": {
        "colab": {
          "base_uri": "https://localhost:8080/",
          "height": 238
        },
        "id": "zdlg48W_VCLH",
        "outputId": "bcda98d6-9c1c-438b-db6d-5f7c25c53e56"
      },
      "execution_count": 23,
      "outputs": [
        {
          "output_type": "execute_result",
          "data": {
            "text/plain": [
              "                                 Date       Open       High        Low  \\\n",
              "Date                                                                     \n",
              "2022-05-16 00:00:00+03:00  738290.875  19.298671  19.396734  18.906422   \n",
              "2022-05-17 00:00:00+03:00  738291.875  19.171189  19.808596  19.073128   \n",
              "2022-05-18 00:00:00+03:00  738292.875  19.524214  19.808596  19.435958   \n",
              "2022-05-20 00:00:00+03:00  738294.875  19.494795  19.690920  19.043709   \n",
              "2022-05-23 00:00:00+03:00  738297.875  19.122158  19.141771  18.553397   \n",
              "\n",
              "                               Close  \n",
              "Date                                  \n",
              "2022-05-16 00:00:00+03:00  18.926033  \n",
              "2022-05-17 00:00:00+03:00  19.524214  \n",
              "2022-05-18 00:00:00+03:00  19.524214  \n",
              "2022-05-20 00:00:00+03:00  19.043709  \n",
              "2022-05-23 00:00:00+03:00  18.975065  "
            ],
            "text/html": [
              "\n",
              "  <div id=\"df-0196d5a8-170d-4680-8de4-908e7eb08eb0\">\n",
              "    <div class=\"colab-df-container\">\n",
              "      <div>\n",
              "<style scoped>\n",
              "    .dataframe tbody tr th:only-of-type {\n",
              "        vertical-align: middle;\n",
              "    }\n",
              "\n",
              "    .dataframe tbody tr th {\n",
              "        vertical-align: top;\n",
              "    }\n",
              "\n",
              "    .dataframe thead th {\n",
              "        text-align: right;\n",
              "    }\n",
              "</style>\n",
              "<table border=\"1\" class=\"dataframe\">\n",
              "  <thead>\n",
              "    <tr style=\"text-align: right;\">\n",
              "      <th></th>\n",
              "      <th>Date</th>\n",
              "      <th>Open</th>\n",
              "      <th>High</th>\n",
              "      <th>Low</th>\n",
              "      <th>Close</th>\n",
              "    </tr>\n",
              "    <tr>\n",
              "      <th>Date</th>\n",
              "      <th></th>\n",
              "      <th></th>\n",
              "      <th></th>\n",
              "      <th></th>\n",
              "      <th></th>\n",
              "    </tr>\n",
              "  </thead>\n",
              "  <tbody>\n",
              "    <tr>\n",
              "      <th>2022-05-16 00:00:00+03:00</th>\n",
              "      <td>738290.875</td>\n",
              "      <td>19.298671</td>\n",
              "      <td>19.396734</td>\n",
              "      <td>18.906422</td>\n",
              "      <td>18.926033</td>\n",
              "    </tr>\n",
              "    <tr>\n",
              "      <th>2022-05-17 00:00:00+03:00</th>\n",
              "      <td>738291.875</td>\n",
              "      <td>19.171189</td>\n",
              "      <td>19.808596</td>\n",
              "      <td>19.073128</td>\n",
              "      <td>19.524214</td>\n",
              "    </tr>\n",
              "    <tr>\n",
              "      <th>2022-05-18 00:00:00+03:00</th>\n",
              "      <td>738292.875</td>\n",
              "      <td>19.524214</td>\n",
              "      <td>19.808596</td>\n",
              "      <td>19.435958</td>\n",
              "      <td>19.524214</td>\n",
              "    </tr>\n",
              "    <tr>\n",
              "      <th>2022-05-20 00:00:00+03:00</th>\n",
              "      <td>738294.875</td>\n",
              "      <td>19.494795</td>\n",
              "      <td>19.690920</td>\n",
              "      <td>19.043709</td>\n",
              "      <td>19.043709</td>\n",
              "    </tr>\n",
              "    <tr>\n",
              "      <th>2022-05-23 00:00:00+03:00</th>\n",
              "      <td>738297.875</td>\n",
              "      <td>19.122158</td>\n",
              "      <td>19.141771</td>\n",
              "      <td>18.553397</td>\n",
              "      <td>18.975065</td>\n",
              "    </tr>\n",
              "  </tbody>\n",
              "</table>\n",
              "</div>\n",
              "      <button class=\"colab-df-convert\" onclick=\"convertToInteractive('df-0196d5a8-170d-4680-8de4-908e7eb08eb0')\"\n",
              "              title=\"Convert this dataframe to an interactive table.\"\n",
              "              style=\"display:none;\">\n",
              "        \n",
              "  <svg xmlns=\"http://www.w3.org/2000/svg\" height=\"24px\"viewBox=\"0 0 24 24\"\n",
              "       width=\"24px\">\n",
              "    <path d=\"M0 0h24v24H0V0z\" fill=\"none\"/>\n",
              "    <path d=\"M18.56 5.44l.94 2.06.94-2.06 2.06-.94-2.06-.94-.94-2.06-.94 2.06-2.06.94zm-11 1L8.5 8.5l.94-2.06 2.06-.94-2.06-.94L8.5 2.5l-.94 2.06-2.06.94zm10 10l.94 2.06.94-2.06 2.06-.94-2.06-.94-.94-2.06-.94 2.06-2.06.94z\"/><path d=\"M17.41 7.96l-1.37-1.37c-.4-.4-.92-.59-1.43-.59-.52 0-1.04.2-1.43.59L10.3 9.45l-7.72 7.72c-.78.78-.78 2.05 0 2.83L4 21.41c.39.39.9.59 1.41.59.51 0 1.02-.2 1.41-.59l7.78-7.78 2.81-2.81c.8-.78.8-2.07 0-2.86zM5.41 20L4 18.59l7.72-7.72 1.47 1.35L5.41 20z\"/>\n",
              "  </svg>\n",
              "      </button>\n",
              "      \n",
              "  <style>\n",
              "    .colab-df-container {\n",
              "      display:flex;\n",
              "      flex-wrap:wrap;\n",
              "      gap: 12px;\n",
              "    }\n",
              "\n",
              "    .colab-df-convert {\n",
              "      background-color: #E8F0FE;\n",
              "      border: none;\n",
              "      border-radius: 50%;\n",
              "      cursor: pointer;\n",
              "      display: none;\n",
              "      fill: #1967D2;\n",
              "      height: 32px;\n",
              "      padding: 0 0 0 0;\n",
              "      width: 32px;\n",
              "    }\n",
              "\n",
              "    .colab-df-convert:hover {\n",
              "      background-color: #E2EBFA;\n",
              "      box-shadow: 0px 1px 2px rgba(60, 64, 67, 0.3), 0px 1px 3px 1px rgba(60, 64, 67, 0.15);\n",
              "      fill: #174EA6;\n",
              "    }\n",
              "\n",
              "    [theme=dark] .colab-df-convert {\n",
              "      background-color: #3B4455;\n",
              "      fill: #D2E3FC;\n",
              "    }\n",
              "\n",
              "    [theme=dark] .colab-df-convert:hover {\n",
              "      background-color: #434B5C;\n",
              "      box-shadow: 0px 1px 3px 1px rgba(0, 0, 0, 0.15);\n",
              "      filter: drop-shadow(0px 1px 2px rgba(0, 0, 0, 0.3));\n",
              "      fill: #FFFFFF;\n",
              "    }\n",
              "  </style>\n",
              "\n",
              "      <script>\n",
              "        const buttonEl =\n",
              "          document.querySelector('#df-0196d5a8-170d-4680-8de4-908e7eb08eb0 button.colab-df-convert');\n",
              "        buttonEl.style.display =\n",
              "          google.colab.kernel.accessAllowed ? 'block' : 'none';\n",
              "\n",
              "        async function convertToInteractive(key) {\n",
              "          const element = document.querySelector('#df-0196d5a8-170d-4680-8de4-908e7eb08eb0');\n",
              "          const dataTable =\n",
              "            await google.colab.kernel.invokeFunction('convertToInteractive',\n",
              "                                                     [key], {});\n",
              "          if (!dataTable) return;\n",
              "\n",
              "          const docLinkHtml = 'Like what you see? Visit the ' +\n",
              "            '<a target=\"_blank\" href=https://colab.research.google.com/notebooks/data_table.ipynb>data table notebook</a>'\n",
              "            + ' to learn more about interactive tables.';\n",
              "          element.innerHTML = '';\n",
              "          dataTable['output_type'] = 'display_data';\n",
              "          await google.colab.output.renderOutput(dataTable, element);\n",
              "          const docLink = document.createElement('div');\n",
              "          docLink.innerHTML = docLinkHtml;\n",
              "          element.appendChild(docLink);\n",
              "        }\n",
              "      </script>\n",
              "    </div>\n",
              "  </div>\n",
              "  "
            ]
          },
          "metadata": {},
          "execution_count": 23
        }
      ]
    },
    {
      "cell_type": "code",
      "source": [
        "def isSupport(df,i):\n",
        "  support = df['Low'][i] < df['Low'][i-1]  and df['Low'][i] < df['Low'][i+1] and df['Low'][i+1] < df['Low'][i+2] and df['Low'][i-1] < df['Low'][i-2]\n",
        "  return support\n",
        "def isResistance(df,i):\n",
        "  resistance = df['High'][i] > df['High'][i-1]  and df['High'][i] > df['High'][i+1] and df['High'][i+1] > df['High'][i+2] and df['High'][i-1] > df['High'][i-2]\n",
        "  return resistance"
      ],
      "metadata": {
        "id": "yymqBTRwVEzK"
      },
      "execution_count": 24,
      "outputs": []
    },
    {
      "cell_type": "code",
      "source": [
        "levels = []\n",
        "for i in range(2,df.shape[0]-2):\n",
        "  if isSupport(df,i):\n",
        "    levels.append((i,df['Low'][i]))\n",
        "  elif isResistance(df,i):\n",
        "    levels.append((i,df['High'][i]))"
      ],
      "metadata": {
        "id": "OuC8dzQjVGvB"
      },
      "execution_count": 25,
      "outputs": []
    },
    {
      "cell_type": "code",
      "source": [
        "def plot_all():\n",
        "  fig, ax = plt.subplots()\n",
        "  candlestick_ohlc(ax,df.values,width=0.6, \\\n",
        "                   colorup='green', colordown='red', alpha=0.8)\n",
        "  date_format = mpl_dates.DateFormatter('%d %b %Y')\n",
        "  ax.xaxis.set_major_formatter(date_format)\n",
        "  fig.autofmt_xdate()\n",
        "  fig.tight_layout()\n",
        "  for level in levels:\n",
        "    plt.hlines(level[1],xmin=df['Date'][level[0]],\\\n",
        "               xmax=max(df['Date']),colors='blue')\n",
        "    plt.title(name)\n",
        "  fig.show()"
      ],
      "metadata": {
        "id": "VYOIZVPHVJNi"
      },
      "execution_count": 26,
      "outputs": []
    },
    {
      "cell_type": "code",
      "source": [
        "plot_all()"
      ],
      "metadata": {
        "colab": {
          "base_uri": "https://localhost:8080/",
          "height": 526
        },
        "id": "jAJywjaiVLF6",
        "outputId": "af902eca-a8b6-44f5-e4da-8afb84b3b7d5"
      },
      "execution_count": 27,
      "outputs": [
        {
          "output_type": "display_data",
          "data": {
            "text/plain": [
              "<Figure size 864x504 with 1 Axes>"
            ],
            "image/png": "[encoded data removed]"
          },
          "metadata": {}
        }
      ]
    },
    {
      "cell_type": "code",
      "source": [
        "s =  np.mean(df['High'] - df['Low'])"
      ],
      "metadata": {
        "id": "tL7EMGXnVNDp"
      },
      "execution_count": 28,
      "outputs": []
    },
    {
      "cell_type": "code",
      "source": [
        "\n",
        "def isFarFromLevel(l):\n",
        "   return np.sum([abs(l-x) < s  for x in levels]) == 0"
      ],
      "metadata": {
        "id": "Ubwnkc4MVOSR"
      },
      "execution_count": 29,
      "outputs": []
    },
    {
      "cell_type": "code",
      "source": [
        "levels = []\n",
        "for i in range(2,df.shape[0]-2):\n",
        "  if isSupport(df,i):\n",
        "    l = df['Low'][i]\n",
        "    if isFarFromLevel(l):\n",
        "      levels.append((i,l))\n",
        "  elif isResistance(df,i):\n",
        "    l = df['High'][i]\n",
        "    if isFarFromLevel(l):\n",
        "      levels.append((i,l))"
      ],
      "metadata": {
        "id": "RDE_Y4hxVPPN"
      },
      "execution_count": 30,
      "outputs": []
    },
    {
      "cell_type": "code",
      "source": [
        "plot_all()"
      ],
      "metadata": {
        "colab": {
          "base_uri": "https://localhost:8080/",
          "height": 526
        },
        "id": "1_2RBw1nVQwm",
        "outputId": "4fe03161-6dbe-4ba0-cefe-5409d448daf1"
      },
      "execution_count": 31,
      "outputs": [
        {
          "output_type": "display_data",
          "data": {
            "text/plain": [
              "<Figure size 864x504 with 1 Axes>"
            ],
            "image/png": "[encoded data removed]"
          },
          "metadata": {}
        }
      ]
    },
    {
      "cell_type": "code",
      "source": [],
      "metadata": {
        "id": "O3yOGp4YVzK1"
      },
      "execution_count": null,
      "outputs": []
    }
  ]
}